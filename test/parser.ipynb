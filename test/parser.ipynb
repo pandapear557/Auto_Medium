{
 "cells": [
  {
   "cell_type": "code",
   "execution_count": 1,
   "metadata": {},
   "outputs": [],
   "source": [
    "class BlogCrawler:\n",
    "    def __init__(self, url):\n",
    "        headers = {\"User-Agent\": \"Mozilla/5.0\"}\n",
    "        req = urllib.request.Request(url, headers=headers)\n",
    "        self._soup = BeautifulSoup(urllib.request.urlopen(req).read(), \"html.parser\")\n",
    "\n",
    "    @property\n",
    "    def info(self):\n",
    "        return {\n",
    "            \"title\": self.title,\n",
    "            \"description\": self.description,\n",
    "            \"image\": self.image,\n",
    "        }\n",
    "\n",
    "    @property\n",
    "    def title(self):\n",
    "        return self._soup.find(\"meta\", property=\"og:title\")[\"content\"]\n",
    "\n",
    "    @property\n",
    "    def description(self):\n",
    "        return self._soup.find(\"meta\", property=\"og:description\")[\"content\"]\n",
    "\n",
    "    @property\n",
    "    def image(self):\n",
    "        return self._soup.find(\"meta\", property=\"og:image\")[\"content\"]"
   ]
  },
  {
   "cell_type": "code",
   "execution_count": 2,
   "metadata": {},
   "outputs": [
    {
     "ename": "ModuleNotFoundError",
     "evalue": "No module named 'utils'",
     "output_type": "error",
     "traceback": [
      "\u001b[0;31m---------------------------------------------------------------------------\u001b[0m",
      "\u001b[0;31mModuleNotFoundError\u001b[0m                       Traceback (most recent call last)",
      "Cell \u001b[0;32mIn[2], line 1\u001b[0m\n\u001b[0;32m----> 1\u001b[0m \u001b[38;5;28;01mfrom\u001b[39;00m \u001b[38;5;21;01mutils\u001b[39;00m \u001b[38;5;28;01mimport\u001b[39;00m remove_escape\n\u001b[1;32m      2\u001b[0m \u001b[38;5;28;01mfrom\u001b[39;00m \u001b[38;5;21;01mcrawler\u001b[39;00m\u001b[38;5;21;01m.\u001b[39;00m\u001b[38;5;21;01mbase\u001b[39;00m \u001b[38;5;28;01mimport\u001b[39;00m BlogCrawler\n\u001b[1;32m      5\u001b[0m \u001b[38;5;28;01mclass\u001b[39;00m \u001b[38;5;21;01mMediumCrawler\u001b[39;00m(BlogCrawler):\n",
      "\u001b[0;31mModuleNotFoundError\u001b[0m: No module named 'utils'"
     ]
    }
   ],
   "source": [
    "from utils import remove_escape\n",
    "from crawler.base import BlogCrawler\n",
    "\n",
    "\n",
    "class MediumCrawler(BlogCrawler):\n",
    "    def __init__(self, url):\n",
    "        BlogCrawler.__init__(self, url)\n",
    "\n",
    "    @property\n",
    "    def content(self):\n",
    "        return remove_escape((self._soup.select_one(\"article\")).get_text())"
   ]
  },
  {
   "cell_type": "code",
   "execution_count": 29,
   "metadata": {},
   "outputs": [],
   "source": [
    "import re\n",
    "import json\n",
    "\n",
    "def url_tuples(mail):\n",
    "    with open(mail, \"r\", encoding=\"utf-8\") as file:\n",
    "        data = file.read()  \n",
    "    # 정규표현식 패턴\n",
    "    pattern = r\"(.*)\\((https?://[^\\s)]+)\\)\\n\\n(.*)\"\n",
    "\n",
    "    # 매칭\n",
    "    matches = re.findall(pattern, data)\n",
    "\n",
    "    # 결과를 튜플로 저장\n",
    "    result = [(match[0].strip() if match[0] else None, \n",
    "            match[1].strip() if match[1] else None, \n",
    "            match[2].strip() if match[2] else None) for match in matches]\n",
    "\n",
    "    return result\n",
    "    \n",
    "urls = url_tuples('mail.txt')"
   ]
  },
  {
   "cell_type": "code",
   "execution_count": 33,
   "metadata": {},
   "outputs": [
    {
     "data": {
      "text/plain": [
       "[('·Member',\n",
       "  'https://medium.com/@pandapear557?source=email-5e68d4753404-1733850148089-digest.reader-------------------------0d7bcddd_6297_43be_859d_bfce301a76fb',\n",
       "  \"Today's highlights\"),\n",
       " ('inJavaScript in Plain English',\n",
       "  'https://medium.com/javascript-in-plain-english?source=email-5e68d4753404-1733850148089-digest.reader-4b3a1ed4f11c-ecd698da3dbd----0-102------------------0d7bcddd_6297_43be_859d_bfce301a76fb-1',\n",
       "  'How to Generate Insights from PDF Files with Apryse and GPT'),\n",
       " ('inCyberArk Engineering',\n",
       "  'https://medium.com/cyberark-engineering?source=email-5e68d4753404-1733850148089-digest.reader-9a668e42362e-7bda34c7f4e4----1-98------------------0d7bcddd_6297_43be_859d_bfce301a76fb-1',\n",
       "  'Building Production-Ready AI Agents with LangGraph: A Real-Life Use Case'),\n",
       " ('inWord Garden',\n",
       "  'https://medium.com/word-garden?source=email-5e68d4753404-1733850148089-digest.reader-956a0ce9b0f1-d6656699ef4d----2-98------------------0d7bcddd_6297_43be_859d_bfce301a76fb-1',\n",
       "  '7 Writing Side Hustles That Pay My Rent As A Complete Beginner'),\n",
       " ('inPractice in Public',\n",
       "  'https://medium.com/practice-in-public?source=email-5e68d4753404-1733850148089-digest.reader-b9c709a27d5e-1e439282bb03----3-98------------------0d7bcddd_6297_43be_859d_bfce301a76fb-1',\n",
       "  'I Gained 15,000 Followers With These 3 Dead Simple Steps'),\n",
       " ('Inessa',\n",
       "  'https://medium.com/@aiwithines?source=email-5e68d4753404-1733850148089-digest.reader--609e3a01eb80----4-98------------------0d7bcddd_6297_43be_859d_bfce301a76fb-1',\n",
       "  'AI train your face for cheap in 5 minutes (never make images of yourself again)'),\n",
       " ('inCounter Arts',\n",
       "  'https://medium.com/counterarts?source=email-5e68d4753404-1733850148089-digest.reader-73f583c7b561-4fe5242f58b5----5-110------------------0d7bcddd_6297_43be_859d_bfce301a76fb-1',\n",
       "  \"'It's a Wonderful Life' and Wartime America\"),\n",
       " ('inDigital Currency Traders',\n",
       "  'https://medium.com/digitalcurrencytraders?source=email-5e68d4753404-1733850148089-digest.reader-1fce9052424d-152a1859f7a1----6-98------------------0d7bcddd_6297_43be_859d_bfce301a76fb-1',\n",
       "  'How I Make Money From Crypto\\u200a-\\u200aWithout Trading'),\n",
       " ('inCoding Beauty',\n",
       "  'https://medium.com/coding-beauty?source=email-5e68d4753404-1733850148089-digest.reader-266711b938df-6694d0db0874----7-98------------------0d7bcddd_6297_43be_859d_bfce301a76fb-1',\n",
       "  'The Secret Code Google Uses To Monitor Everything You Do Online😲'),\n",
       " ('inMrcollins life hub',\n",
       "  'https://medium.com/mrcollins-life-hub?source=email-5e68d4753404-1733850148089-digest.reader-371f81d290fa-af8e9fd3664c----8-98------------------0d7bcddd_6297_43be_859d_bfce301a76fb-1',\n",
       "  'Get Paid $10,000 Monthly with the Amazon Associates Program'),\n",
       " ('Cory Doctorow',\n",
       "  'https://medium.com/@doctorow?source=email-5e68d4753404-1733850148089-digest.reader--b2f89bb5b4d8----9-98------------------0d7bcddd_6297_43be_859d_bfce301a76fb-1',\n",
       "  'Bluesky and enshittification'),\n",
       " ('Cobus Greyling',\n",
       "  'https://medium.com/@cobusgreyling?source=email-5e68d4753404-1733850148089-digest.reader--fdc54388f0ff----10-98------------------0d7bcddd_6297_43be_859d_bfce301a76fb-1',\n",
       "  'Four Levels of RAG\\u200a-\\u200aResearch from Microsoft'),\n",
       " ('inThe Startup',\n",
       "  'https://medium.com/swlh?source=email-5e68d4753404-1733850148089-digest.reader-f5af2b715248-452c696d4bcf----11-98------------------0d7bcddd_6297_43be_859d_bfce301a76fb-1',\n",
       "  'Apple Finally Got a Permanent Replacement for Adobe Photoshop and Illustrator'),\n",
       " ('inSYNERGY',\n",
       "  'https://medium.com/technical-excellence?source=email-5e68d4753404-1733850148089-digest.reader-f8f60c4fd2cd-7ae8b3c142b9----12-98------------------0d7bcddd_6297_43be_859d_bfce301a76fb-1',\n",
       "  'My Simple Content Formula That Generates $9,500 Monthly From Writing'),\n",
       " ('inGenerative AI',\n",
       "  'https://medium.com/generative-ai?source=email-5e68d4753404-1733850148089-digest.reader-440100e76000-30839d6163ed----13-98------------------0d7bcddd_6297_43be_859d_bfce301a76fb-1',\n",
       "  \"Still using the 'You are an expert… ' AI prompt Part 2\"),\n",
       " ('Edit who you follow',\n",
       "  'https://medium.com/me/following/people?source=email-5e68d4753404-1733850148089-digest.reader-------------------------0d7bcddd_6297_43be_859d_bfce301a76fb-31',\n",
       "  'The Medium Newsletter (https://medium.com/@dailynewsletter?source=email-5e68d4753404-1733850148089-digest.reader-15f753907972-ae53b2a22bf2----0-1------------------0d7bcddd_6297_43be_859d_bfce301a76fb-31)'),\n",
       " ('inThe Medium Blog',\n",
       "  'https://medium.com/blog?source=email-5e68d4753404-1733850148089-digest.reader-15f753907972-ae53b2a22bf2----0-1------------------0d7bcddd_6297_43be_859d_bfce301a76fb-31',\n",
       "  'The second Gilded Age: Why the 2020s feel like the 1890s'),\n",
       " ('Control your recommendations',\n",
       "  'https://medium.com/me/missioncontrol?source=email-5e68d4753404-1733850148089-digest.reader-------------------------0d7bcddd_6297_43be_859d_bfce301a76fb',\n",
       "  'Read from anywhere.'),\n",
       " ('·Terms of service',\n",
       "  'https://policy.medium.com/medium-terms-of-service-9db0094a1e0f?source=email-5e68d4753404-1733850148089-digest.reader-------------------------0d7bcddd_6297_43be_859d_bfce301a76fb',\n",
       "  None)]"
      ]
     },
     "execution_count": 33,
     "metadata": {},
     "output_type": "execute_result"
    }
   ],
   "source": [
    "urls"
   ]
  },
  {
   "cell_type": "code",
   "execution_count": 34,
   "metadata": {},
   "outputs": [],
   "source": [
    "def slugify(article_title): #이런 함수를 만들어도 괜찮은걸까..\n",
    "    # 모든 \\uXXXX 형태의 Unicode escape sequence 제거\n",
    "    article_title = article_title.encode(\"unicode_escape\").decode(\"ascii\")  \n",
    "    article_title = re.sub(r'\\\\u[0-9a-fA-F]{4}', ' ', article_title)\n",
    "    article_title = re.sub(r'[^\\w\\s]', '', article_title)\n",
    "\n",
    "    # 공백을 '-'로 변환, 압축\n",
    "    article_title = article_title.strip().lower().replace(' ', '-')\n",
    "    article_title = re.sub(r'-+', '-', article_title)\n",
    "\n",
    "    return article_title"
   ]
  },
  {
   "cell_type": "code",
   "execution_count": 30,
   "metadata": {},
   "outputs": [],
   "source": [
    "import re\n",
    "\n",
    "def convert_text(input_text):\n",
    "    # Convert text to lowercase\n",
    "    input_text = input_text.lower()\n",
    "    \n",
    "    # Replace spaces with hyphens\n",
    "    input_text = input_text.replace(\" \", \"-\")\n",
    "    \n",
    "    # Remove non-alphanumeric characters except hyphens\n",
    "    input_text = re.sub(r'[^a-z0-9-]', '', input_text)\n",
    "    \n",
    "    return input_text\n"
   ]
  },
  {
   "cell_type": "code",
   "execution_count": 31,
   "metadata": {},
   "outputs": [],
   "source": [
    "def make_url(urls, idx):\n",
    "    # 튜플 요소 분리\n",
    "    author_name, base_url, article_title = urls[idx]\n",
    "\n",
    "    # 제목을 슬러그 형식으로 변환 (소문자, 공백은 -, 특수문자 제거)\n",
    "    slug = convert_text(article_title)\n",
    "\n",
    "    # 최종 URL 생성\n",
    "    final_url = f\"{base_url.split('?')[0]}/{slug}-{base_url.split('?')[1].split('.reader-')[1].split('-')[1]}?{base_url.split('?')[1]}\"\n",
    "\n",
    "    return author_name, final_url"
   ]
  },
  {
   "cell_type": "code",
   "execution_count": 59,
   "metadata": {},
   "outputs": [
    {
     "name": "stdout",
     "output_type": "stream",
     "text": [
      "Today's highlights\n",
      "How to Generate Insights from PDF Files with Apryse and GPT\n",
      "Building Production-Ready AI Agents with LangGraph: A Real-Life Use Case\n",
      "7 Writing Side Hustles That Pay My Rent As A Complete Beginner\n",
      "I Gained 15,000 Followers With These 3 Dead Simple Steps\n",
      "AI train your face for cheap in 5 minutes (never make images of yourself again)\n",
      "'It's a Wonderful Life' and Wartime America\n",
      "How I Make Money From Crypto - Without Trading\n",
      "The Secret Code Google Uses To Monitor Everything You Do Online😲\n",
      "Get Paid $10,000 Monthly with the Amazon Associates Program\n",
      "Bluesky and enshittification\n",
      "Four Levels of RAG - Research from Microsoft\n",
      "Apple Finally Got a Permanent Replacement for Adobe Photoshop and Illustrator\n",
      "My Simple Content Formula That Generates $9,500 Monthly From Writing\n",
      "Still using the 'You are an expert… ' AI prompt Part 2\n",
      "The Medium Newsletter (https://medium.com/@dailynewsletter?source=email-5e68d4753404-1733850148089-digest.reader-15f753907972-ae53b2a22bf2----0-1------------------0d7bcddd_6297_43be_859d_bfce301a76fb-31)\n",
      "The second Gilded Age: Why the 2020s feel like the 1890s\n",
      "Read from anywhere.\n",
      "None\n"
     ]
    },
    {
     "data": {
      "text/plain": [
       "('inGenerative AI',\n",
       " 'https://medium.com/generative-ai/still-using-the-you-are-an-expert--ai-prompt-part-2-30839d6163ed?source=email-5e68d4753404-1733850148089-digest.reader-440100e76000-30839d6163ed----13-98------------------0d7bcddd_6297_43be_859d_bfce301a76fb-1')"
      ]
     },
     "execution_count": 59,
     "metadata": {},
     "output_type": "execute_result"
    }
   ],
   "source": [
    "for i in range(19):  print(urls[i][2])\n",
    "make_url(urls,-5)"
   ]
  },
  {
   "cell_type": "code",
   "execution_count": 52,
   "metadata": {},
   "outputs": [
    {
     "data": {
      "text/plain": [
       "[('·Member',\n",
       "  'https://medium.com/@pandapear557/todays-highlights-?source=email-5e68d4753404-1733850148089-digest.reader-------------------------0d7bcddd_6297_43be_859d_bfce301a76fb'),\n",
       " ('inJavaScript in Plain English',\n",
       "  'https://medium.com/javascript-in-plain-english/how-to-generate-insights-from-pdf-files-with-apryse-and-gpt-ecd698da3dbd?source=email-5e68d4753404-1733850148089-digest.reader-4b3a1ed4f11c-ecd698da3dbd----0-102------------------0d7bcddd_6297_43be_859d_bfce301a76fb-1'),\n",
       " ('inCyberArk Engineering',\n",
       "  'https://medium.com/cyberark-engineering/building-production-ready-ai-agents-with-langgraph-a-real-life-use-case-7bda34c7f4e4?source=email-5e68d4753404-1733850148089-digest.reader-9a668e42362e-7bda34c7f4e4----1-98------------------0d7bcddd_6297_43be_859d_bfce301a76fb-1'),\n",
       " ('inWord Garden',\n",
       "  'https://medium.com/word-garden/7-writing-side-hustles-that-pay-my-rent-as-a-complete-beginner-d6656699ef4d?source=email-5e68d4753404-1733850148089-digest.reader-956a0ce9b0f1-d6656699ef4d----2-98------------------0d7bcddd_6297_43be_859d_bfce301a76fb-1'),\n",
       " ('inPractice in Public',\n",
       "  'https://medium.com/practice-in-public/i-gained-15000-followers-with-these-3-dead-simple-steps-1e439282bb03?source=email-5e68d4753404-1733850148089-digest.reader-b9c709a27d5e-1e439282bb03----3-98------------------0d7bcddd_6297_43be_859d_bfce301a76fb-1'),\n",
       " ('Inessa',\n",
       "  'https://medium.com/@aiwithines/ai-train-your-face-for-cheap-in-5-minutes-never-make-images-of-yourself-again-609e3a01eb80?source=email-5e68d4753404-1733850148089-digest.reader--609e3a01eb80----4-98------------------0d7bcddd_6297_43be_859d_bfce301a76fb-1'),\n",
       " ('inCounter Arts',\n",
       "  'https://medium.com/counterarts/its-a-wonderful-life-and-wartime-america-4fe5242f58b5?source=email-5e68d4753404-1733850148089-digest.reader-73f583c7b561-4fe5242f58b5----5-110------------------0d7bcddd_6297_43be_859d_bfce301a76fb-1'),\n",
       " ('inDigital Currency Traders',\n",
       "  'https://medium.com/digitalcurrencytraders/how-i-make-money-from-crypto-without-trading-152a1859f7a1?source=email-5e68d4753404-1733850148089-digest.reader-1fce9052424d-152a1859f7a1----6-98------------------0d7bcddd_6297_43be_859d_bfce301a76fb-1'),\n",
       " ('inCoding Beauty',\n",
       "  'https://medium.com/coding-beauty/the-secret-code-google-uses-to-monitor-everything-you-do-online-6694d0db0874?source=email-5e68d4753404-1733850148089-digest.reader-266711b938df-6694d0db0874----7-98------------------0d7bcddd_6297_43be_859d_bfce301a76fb-1'),\n",
       " ('inMrcollins life hub',\n",
       "  'https://medium.com/mrcollins-life-hub/get-paid-10000-monthly-with-the-amazon-associates-program-af8e9fd3664c?source=email-5e68d4753404-1733850148089-digest.reader-371f81d290fa-af8e9fd3664c----8-98------------------0d7bcddd_6297_43be_859d_bfce301a76fb-1'),\n",
       " ('Cory Doctorow',\n",
       "  'https://medium.com/@doctorow/bluesky-and-enshittification-b2f89bb5b4d8?source=email-5e68d4753404-1733850148089-digest.reader--b2f89bb5b4d8----9-98------------------0d7bcddd_6297_43be_859d_bfce301a76fb-1'),\n",
       " ('Cobus Greyling',\n",
       "  'https://medium.com/@cobusgreyling/four-levels-of-rag-research-from-microsoft-fdc54388f0ff?source=email-5e68d4753404-1733850148089-digest.reader--fdc54388f0ff----10-98------------------0d7bcddd_6297_43be_859d_bfce301a76fb-1'),\n",
       " ('inThe Startup',\n",
       "  'https://medium.com/swlh/apple-finally-got-a-permanent-replacement-for-adobe-photoshop-and-illustrator-452c696d4bcf?source=email-5e68d4753404-1733850148089-digest.reader-f5af2b715248-452c696d4bcf----11-98------------------0d7bcddd_6297_43be_859d_bfce301a76fb-1'),\n",
       " ('inSYNERGY',\n",
       "  'https://medium.com/technical-excellence/my-simple-content-formula-that-generates-9500-monthly-from-writing-7ae8b3c142b9?source=email-5e68d4753404-1733850148089-digest.reader-f8f60c4fd2cd-7ae8b3c142b9----12-98------------------0d7bcddd_6297_43be_859d_bfce301a76fb-1'),\n",
       " ('inGenerative AI',\n",
       "  'https://medium.com/generative-ai/still-using-the-you-are-an-expert--ai-prompt-part-2-30839d6163ed?source=email-5e68d4753404-1733850148089-digest.reader-440100e76000-30839d6163ed----13-98------------------0d7bcddd_6297_43be_859d_bfce301a76fb-1'),\n",
       " ('Edit who you follow',\n",
       "  'https://medium.com/me/following/people/the-medium-newsletter-httpsmediumcomdailynewslettersourceemail-5e68d4753404-1733850148089-digestreader-15f753907972-ae53b2a22bf2----0-1------------------0d7bcddd629743be859dbfce301a76fb-31-?source=email-5e68d4753404-1733850148089-digest.reader-------------------------0d7bcddd_6297_43be_859d_bfce301a76fb-31'),\n",
       " ('inThe Medium Blog',\n",
       "  'https://medium.com/blog/the-second-gilded-age-why-the-2020s-feel-like-the-1890s-ae53b2a22bf2?source=email-5e68d4753404-1733850148089-digest.reader-15f753907972-ae53b2a22bf2----0-1------------------0d7bcddd_6297_43be_859d_bfce301a76fb-31'),\n",
       " ('Control your recommendations',\n",
       "  'https://medium.com/me/missioncontrol/read-from-anywhere-?source=email-5e68d4753404-1733850148089-digest.reader-------------------------0d7bcddd_6297_43be_859d_bfce301a76fb')]"
      ]
     },
     "execution_count": 52,
     "metadata": {},
     "output_type": "execute_result"
    }
   ],
   "source": [
    "temp = []\n",
    "for i in range(len(urls)-1):\n",
    "        temp.append(make_url(urls,i))\n",
    "temp"
   ]
  },
  {
   "cell_type": "code",
   "execution_count": 69,
   "metadata": {},
   "outputs": [
    {
     "name": "stdout",
     "output_type": "stream",
     "text": [
      "I never thought I’d say this, but writing actually pays my rent now.\n",
      "Trust me, I’m no Shakespeare — just someone who discovered these seven writing jobs that don’t need fancy degrees or years of experience.\n",
      "Remember that time I bought those bright yellow running shoes that looked amazing online but felt like concrete blocks?\n",
      "Well, now I get paid to write honest product reviews so others don’t make my mistakes.\n",
      "What you’ll do:\n",
      "Where to start:\n"
     ]
    }
   ],
   "source": [
    "from bs4 import BeautifulSoup\n",
    "import urllib\n",
    "\n",
    "test = \"https://medium.com/word-garden/7-writing-side-hustles-that-pay-my-rent-as-a-complete-beginner-d6656699ef4d\"\n",
    "\n",
    "headers = {\"User-Agent\": \"Mozilla/5.0\"}\n",
    "req = urllib.request.Request(test, headers=headers)\n",
    "soup = BeautifulSoup(urllib.request.urlopen(req).read(), \"html.parser\")\n",
    "\n",
    "titles = soup.select_one(\"h1\").get_text()\n",
    "paragraphs = soup.select(\".pw-post-body-paragraph\")\n",
    "txt = \"\\n\".join([paragraph.get_text() for paragraph in paragraphs])\n",
    "\n",
    "print(txt)"
   ]
  },
  {
   "cell_type": "code",
   "execution_count": 183,
   "metadata": {},
   "outputs": [
    {
     "name": "stdout",
     "output_type": "stream",
     "text": [
      "Text to Video AI: How to Create Videos for Free — A Complete Guide \n",
      "\n",
      " Text to Video generation has been the trend these days and a lot of popular tools are available for this use-case such as Vadoo, Invideo, Pictory etc. But most of these tools are paid and the budget can quickly go out of reach when you need multiple revisions to your output video\n",
      "So in this article we shall discuss how we can create videos from text for free using an open-source solution https://github.com/SamurAIGPT/Text-To-Video-AI . If you prefer just watching a demo of using the project without getting into the coding aspects here is a tutorial video for the same\n",
      "Now let’s get technical. Below are the entire workflow for generating a complete video from text\n",
      "If you prefer to go for a premium voice you can try Elevenlabs api instead of edgetts. If you are on a system with lower hardware specifications, you can skip using whisper locally and use whisper api instead. With the entire workflow being clear, let’s understand how the above steps are achieved\n",
      "Generating script for video\n",
      "We shall be using the below prompt to generate a video script for a topic. Since we are focused on generating a shorts video, we instruct the LLM to generate a script for around 50 seconds or 140 words. In addition we instruct LLM to generate an interesting and original script\n",
      "Once the script is ready, we pass it to edgetts to generate a voice for the same. Then we pick up the generated audio and pass to whisper to generate timed captions. As the captions are now ready we can get to the next task i.e identifying visual keywords to use for fetching relevant videos for the captions\n",
      "Finding visual keywords for script\n",
      "We shall use the below prompt to identify relevant keywords based on the input captions. We use Pexels api for finding videos based on keywords. These keywords should be generated in such a way that they should be ideal for fetching videos and thus should be of only 1–2 words max. And they should be depict something visual as that would make the video search in Pexels easier.\n",
      "At first we divide the input captions into time segments of 3 seconds. We do this such that there is a new video every 3 seconds to keep it engaging . For every time segment we generate 3 keywords using below prompt. This is done so as to make sure that even if we don’t find any videos for one keyword we can try for the other in the 3 generated keywords.\n",
      "Now we have generated visual keywords for each time segment. Next we find relevant videos for these keywords using Pexels api. Below is the code to fetch a relevant video in Pexels from a keyword\n",
      "For each of the 3 keywords for a time segment we try and find if we can fetch a video using getBestVideo function. It returns None if it is unable to find a video. Otherwise it filters the results such that we get videos in our expected shorts resolution i.e 1920x1080 and finds a video with longest duration < 15 seconds.\n",
      "Merge videos, audio and captions with Moviepy\n",
      "Now we have everything we needed i.e audio, captions and relevant videos for captions. We need to now stitch everything together to get a final video with all of the above elements. For this we will be using Moviepy library as shown in code below\n",
      "ImageMagick is needed to overlay captions in our preferred style on top of the video using TextClip function in Moviepy. Now we have the final output ready and stored in file named rendered_video.mp4\n",
      "Here is a simple to run Colab notebook along with a demo video if you prefer not installing everything manually on your system.\n",
      "If you wish to deep dive into the code or you prefer running it locally here is the link to the Github repo\n",
      "If you wish to skip the coding and wish to use a No-code tool check out text to video ai\n"
     ]
    }
   ],
   "source": [
    "headers = {\"User-Agent\": \"Mozilla/5.0\"}\n",
    "req = urllib.request.Request(temp, headers=headers)\n",
    "soup = BeautifulSoup(urllib.request.urlopen(req).read(), \"html.parser\")\n",
    "\n",
    "titles = soup.select_one(\"h1\").get_text()\n",
    "paragraphs = soup.select(\".pw-post-body-paragraph\")\n",
    "txt = \"\\n\".join([paragraph.get_text() for paragraph in paragraphs])\n",
    "print(titles, '\\n\\n' ,txt)"
   ]
  },
  {
   "cell_type": "code",
   "execution_count": 18,
   "metadata": {},
   "outputs": [
    {
     "name": "stdout",
     "output_type": "stream",
     "text": [
      "Collecting flask\n",
      "  Downloading flask-3.1.0-py3-none-any.whl.metadata (2.7 kB)\n",
      "Collecting Werkzeug>=3.1 (from flask)\n",
      "  Downloading werkzeug-3.1.3-py3-none-any.whl.metadata (3.7 kB)\n",
      "Collecting Jinja2>=3.1.2 (from flask)\n",
      "  Downloading jinja2-3.1.4-py3-none-any.whl.metadata (2.6 kB)\n",
      "Collecting itsdangerous>=2.2 (from flask)\n",
      "  Downloading itsdangerous-2.2.0-py3-none-any.whl.metadata (1.9 kB)\n",
      "Collecting click>=8.1.3 (from flask)\n",
      "  Downloading click-8.1.7-py3-none-any.whl.metadata (3.0 kB)\n",
      "Collecting blinker>=1.9 (from flask)\n",
      "  Downloading blinker-1.9.0-py3-none-any.whl.metadata (1.6 kB)\n",
      "Collecting MarkupSafe>=2.0 (from Jinja2>=3.1.2->flask)\n",
      "  Downloading MarkupSafe-3.0.2-cp313-cp313-macosx_10_13_universal2.whl.metadata (4.0 kB)\n",
      "Downloading flask-3.1.0-py3-none-any.whl (102 kB)\n",
      "Downloading blinker-1.9.0-py3-none-any.whl (8.5 kB)\n",
      "Downloading click-8.1.7-py3-none-any.whl (97 kB)\n",
      "Downloading itsdangerous-2.2.0-py3-none-any.whl (16 kB)\n",
      "Downloading jinja2-3.1.4-py3-none-any.whl (133 kB)\n",
      "Downloading werkzeug-3.1.3-py3-none-any.whl (224 kB)\n",
      "Downloading MarkupSafe-3.0.2-cp313-cp313-macosx_10_13_universal2.whl (14 kB)\n",
      "Installing collected packages: MarkupSafe, itsdangerous, click, blinker, Werkzeug, Jinja2, flask\n",
      "Successfully installed Jinja2-3.1.4 MarkupSafe-3.0.2 Werkzeug-3.1.3 blinker-1.9.0 click-8.1.7 flask-3.1.0 itsdangerous-2.2.0\n"
     ]
    }
   ],
   "source": [
    "!pip install flask"
   ]
  },
  {
   "cell_type": "code",
   "execution_count": 20,
   "metadata": {},
   "outputs": [
    {
     "name": "stdout",
     "output_type": "stream",
     "text": [
      " * Serving Flask app '__main__'\n",
      " * Debug mode: off\n"
     ]
    },
    {
     "name": "stderr",
     "output_type": "stream",
     "text": [
      "\u001b[31m\u001b[1mWARNING: This is a development server. Do not use it in a production deployment. Use a production WSGI server instead.\u001b[0m\n",
      " * Running on all addresses (0.0.0.0)\n",
      " * Running on http://127.0.0.1:8080\n",
      " * Running on http://172.30.1.84:8080\n",
      "\u001b[33mPress CTRL+C to quit\u001b[0m\n",
      "172.30.1.84 - - [16/Dec/2024 17:18:36] \"\u001b[33mGET / HTTP/1.1\u001b[0m\" 404 -\n",
      "172.30.1.84 - - [16/Dec/2024 17:18:36] \"\u001b[33mGET /favicon.ico HTTP/1.1\u001b[0m\" 404 -\n",
      "127.0.0.1 - - [16/Dec/2024 17:18:40] \"\u001b[33mGET / HTTP/1.1\u001b[0m\" 404 -\n",
      "127.0.0.1 - - [16/Dec/2024 17:18:40] \"\u001b[33mGET /favicon.ico HTTP/1.1\u001b[0m\" 404 -\n"
     ]
    }
   ],
   "source": [
    "from flask import Flask, request, jsonify\n",
    "\n",
    "app = Flask(__name__)\n",
    "\n",
    "@app.route('/process', methods=['POST'])\n",
    "def process_json():\n",
    "    # JSON 파일 확인\n",
    "    if not request.is_json:\n",
    "        return jsonify({\"error\": \"Invalid JSON format\"}), 400\n",
    "\n",
    "    # JSON 데이터 읽기\n",
    "    data = request.get_json()\n",
    "\n",
    "    # JSON 데이터 처리 (예: 텍스트 추출)\n",
    "    processed_text = f\"Received keys: {', '.join(data.keys())}\"\n",
    "    \n",
    "    return jsonify({\"response\": processed_text}), 200\n",
    "\n",
    "if __name__ == '__main__':\n",
    "    app.run(host='0.0.0.0', port=8080)\n"
   ]
  },
  {
   "cell_type": "code",
   "execution_count": null,
   "metadata": {},
   "outputs": [],
   "source": []
  }
 ],
 "metadata": {
  "kernelspec": {
   "display_name": "NewsLetter",
   "language": "python",
   "name": "python3"
  },
  "language_info": {
   "codemirror_mode": {
    "name": "ipython",
    "version": 3
   },
   "file_extension": ".py",
   "mimetype": "text/x-python",
   "name": "python",
   "nbconvert_exporter": "python",
   "pygments_lexer": "ipython3",
   "version": "3.13.1"
  }
 },
 "nbformat": 4,
 "nbformat_minor": 2
}
